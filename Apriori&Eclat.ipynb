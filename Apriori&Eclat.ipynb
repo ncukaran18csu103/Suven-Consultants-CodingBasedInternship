{
 "cells": [
  {
   "cell_type": "code",
   "execution_count": 1,
   "metadata": {},
   "outputs": [],
   "source": [
    "import numpy as np \n",
    "import pandas as pd"
   ]
  },
  {
   "cell_type": "code",
   "execution_count": 2,
   "metadata": {},
   "outputs": [],
   "source": [
    "dataset=pd.read_csv('Groceries.csv',header=None)"
   ]
  },
  {
   "cell_type": "code",
   "execution_count": 5,
   "metadata": {},
   "outputs": [],
   "source": [
    "pd.pandas.set_option('display.max_column',None)"
   ]
  },
  {
   "cell_type": "code",
   "execution_count": null,
   "metadata": {},
   "outputs": [],
   "source": []
  },
  {
   "cell_type": "code",
   "execution_count": 6,
   "metadata": {},
   "outputs": [
    {
     "ename": "NameError",
     "evalue": "name 'dataset' is not defined",
     "output_type": "error",
     "traceback": [
      "\u001b[1;31m---------------------------------------------------------------------------\u001b[0m",
      "\u001b[1;31mNameError\u001b[0m                                 Traceback (most recent call last)",
      "\u001b[1;32m<ipython-input-6-a62c974a6759>\u001b[0m in \u001b[0;36m<module>\u001b[1;34m\u001b[0m\n\u001b[1;32m----> 1\u001b[1;33m \u001b[0mdataset\u001b[0m\u001b[1;33m.\u001b[0m\u001b[0mshape\u001b[0m\u001b[1;33m\u001b[0m\u001b[1;33m\u001b[0m\u001b[0m\n\u001b[0m",
      "\u001b[1;31mNameError\u001b[0m: name 'dataset' is not defined"
     ]
    }
   ],
   "source": [
    "dataset.shape"
   ]
  },
  {
   "cell_type": "code",
   "execution_count": 11,
   "metadata": {},
   "outputs": [],
   "source": [
    "#Adding all transactions into list of lists..\n",
    "groceries=[]\n",
    "for i in range(0,3000):\n",
    "    groceries.append([str(dataset.values[i,j]) for j in range(0,10)])\n",
    "    \n",
    "    "
   ]
  },
  {
   "cell_type": "code",
   "execution_count": 15,
   "metadata": {},
   "outputs": [
    {
     "data": {
      "text/plain": [
       "[['other vegetables',\n",
       "  'whole milk',\n",
       "  'condensed milk',\n",
       "  'long life bakery product',\n",
       "  'nan',\n",
       "  'nan',\n",
       "  'nan',\n",
       "  'nan',\n",
       "  'nan',\n",
       "  'nan']]"
      ]
     },
     "execution_count": 15,
     "metadata": {},
     "output_type": "execute_result"
    }
   ],
   "source": [
    "groceries[4:5]"
   ]
  },
  {
   "cell_type": "code",
   "execution_count": 16,
   "metadata": {},
   "outputs": [],
   "source": [
    "#Training Apriori on the dataset\n",
    "from apyori import apriori\n",
    "association_rules=apriori(groceries,min_support=0.0025,min_confidence=0.20,min_lift=3,min_length=2)"
   ]
  },
  {
   "cell_type": "code",
   "execution_count": 17,
   "metadata": {},
   "outputs": [],
   "source": [
    "results=list(association_rules)"
   ]
  },
  {
   "cell_type": "code",
   "execution_count": 18,
   "metadata": {},
   "outputs": [
    {
     "data": {
      "text/plain": [
       "[RelationRecord(items=frozenset({'margarine', 'baking powder'}), support=0.004, ordered_statistics=[OrderedStatistic(items_base=frozenset({'baking powder'}), items_add=frozenset({'margarine'}), confidence=0.25531914893617025, lift=4.453240969816923)])]"
      ]
     },
     "execution_count": 18,
     "metadata": {},
     "output_type": "execute_result"
    }
   ],
   "source": [
    "results[:1]"
   ]
  },
  {
   "cell_type": "code",
   "execution_count": 19,
   "metadata": {},
   "outputs": [],
   "source": [
    "lift=[]\n",
    "association_items=[]\n",
    "for i in range(0,len(results)):\n",
    "    lift.append(results[:len(results)][i][2][0][3])\n",
    "    association_items.append(list(results[:len(results)][i][0]))"
   ]
  },
  {
   "cell_type": "code",
   "execution_count": 20,
   "metadata": {},
   "outputs": [],
   "source": [
    "#Putting it all together in a dataframe\n",
    "final_groceries=pd.DataFrame([association_items,lift]).T\n",
    "final_groceries.columns=['Association Items','Lift']"
   ]
  },
  {
   "cell_type": "code",
   "execution_count": 21,
   "metadata": {},
   "outputs": [
    {
     "data": {
      "text/html": [
       "<div>\n",
       "<style scoped>\n",
       "    .dataframe tbody tr th:only-of-type {\n",
       "        vertical-align: middle;\n",
       "    }\n",
       "\n",
       "    .dataframe tbody tr th {\n",
       "        vertical-align: top;\n",
       "    }\n",
       "\n",
       "    .dataframe thead th {\n",
       "        text-align: right;\n",
       "    }\n",
       "</style>\n",
       "<table border=\"1\" class=\"dataframe\">\n",
       "  <thead>\n",
       "    <tr style=\"text-align: right;\">\n",
       "      <th></th>\n",
       "      <th>Association Items</th>\n",
       "      <th>Lift</th>\n",
       "    </tr>\n",
       "  </thead>\n",
       "  <tbody>\n",
       "    <tr>\n",
       "      <th>267</th>\n",
       "      <td>[soda, yogurt, sausage, bottled water]</td>\n",
       "      <td>15.7895</td>\n",
       "    </tr>\n",
       "    <tr>\n",
       "      <th>325</th>\n",
       "      <td>[dessert, pip fruit, yogurt, other vegetables]</td>\n",
       "      <td>14.4385</td>\n",
       "    </tr>\n",
       "    <tr>\n",
       "      <th>290</th>\n",
       "      <td>[cream cheese , whole milk, domestic eggs, cit...</td>\n",
       "      <td>14.026</td>\n",
       "    </tr>\n",
       "    <tr>\n",
       "      <th>328</th>\n",
       "      <td>[dessert, yogurt, other vegetables, whipped/so...</td>\n",
       "      <td>13.3185</td>\n",
       "    </tr>\n",
       "    <tr>\n",
       "      <th>288</th>\n",
       "      <td>[other vegetables, chicken, tropical fruit, ro...</td>\n",
       "      <td>12.2727</td>\n",
       "    </tr>\n",
       "    <tr>\n",
       "      <th>320</th>\n",
       "      <td>[curd, pip fruit, yogurt, tropical fruit]</td>\n",
       "      <td>11.2202</td>\n",
       "    </tr>\n",
       "    <tr>\n",
       "      <th>326</th>\n",
       "      <td>[dessert, yogurt, sausage, other vegetables]</td>\n",
       "      <td>11.0294</td>\n",
       "    </tr>\n",
       "    <tr>\n",
       "      <th>243</th>\n",
       "      <td>[whole milk, processed cheese, white bread]</td>\n",
       "      <td>10.9091</td>\n",
       "    </tr>\n",
       "    <tr>\n",
       "      <th>393</th>\n",
       "      <td>[soda, canned beer, shopping bags, rolls/buns,...</td>\n",
       "      <td>10.4621</td>\n",
       "    </tr>\n",
       "    <tr>\n",
       "      <th>327</th>\n",
       "      <td>[dessert, yogurt, tropical fruit, other vegeta...</td>\n",
       "      <td>10.2302</td>\n",
       "    </tr>\n",
       "  </tbody>\n",
       "</table>\n",
       "</div>"
      ],
      "text/plain": [
       "                                     Association Items     Lift\n",
       "267             [soda, yogurt, sausage, bottled water]  15.7895\n",
       "325     [dessert, pip fruit, yogurt, other vegetables]  14.4385\n",
       "290  [cream cheese , whole milk, domestic eggs, cit...   14.026\n",
       "328  [dessert, yogurt, other vegetables, whipped/so...  13.3185\n",
       "288  [other vegetables, chicken, tropical fruit, ro...  12.2727\n",
       "320          [curd, pip fruit, yogurt, tropical fruit]  11.2202\n",
       "326       [dessert, yogurt, sausage, other vegetables]  11.0294\n",
       "243        [whole milk, processed cheese, white bread]  10.9091\n",
       "393  [soda, canned beer, shopping bags, rolls/buns,...  10.4621\n",
       "327  [dessert, yogurt, tropical fruit, other vegeta...  10.2302"
      ]
     },
     "execution_count": 21,
     "metadata": {},
     "output_type": "execute_result"
    }
   ],
   "source": [
    "#TOp 10 highest lift scores\n",
    "final_groceries.sort_values('Lift',ascending=False).head(10)"
   ]
  },
  {
   "cell_type": "code",
   "execution_count": 22,
   "metadata": {},
   "outputs": [],
   "source": [
    "#From All this we can infer that \"Soda , Yogurt , Sausage and Bottled Water \" are the most common combined items."
   ]
  },
  {
   "cell_type": "code",
   "execution_count": 23,
   "metadata": {},
   "outputs": [],
   "source": [
    "#Eclat Implementation\n",
    "#getting the products bought by customers...\n",
    "\n",
    "groceriess=[]\n",
    "for i in range(0,len(groceries)):\n",
    "    groceriess.extend(groceries[i])\n",
    "    \n",
    "#Finding Unique items from differennt transactions and removing Nan\n",
    "uniqueItems=list(set(groceriess))\n",
    "uniqueItems.remove('nan')"
   ]
  },
  {
   "cell_type": "code",
   "execution_count": 24,
   "metadata": {},
   "outputs": [],
   "source": [
    "# Creating Combinations with items-pairs....\n",
    "pairs=[]\n",
    "for j in range(0,len(uniqueItems)):\n",
    "    k=1;\n",
    "    while(k<len(uniqueItems)):\n",
    "        try:\n",
    "            pairs.append([uniqueItems[j],uniqueItems[j+k]])\n",
    "        except IndexError:\n",
    "            pass\n",
    "        k=k+1;\n",
    "            "
   ]
  },
  {
   "cell_type": "code",
   "execution_count": 28,
   "metadata": {},
   "outputs": [
    {
     "data": {
      "text/plain": [
       "['cereals',\n",
       " 'sausage',\n",
       " 'female sanitary products',\n",
       " 'mayonnaise',\n",
       " 'syrup',\n",
       " 'rice']"
      ]
     },
     "execution_count": 28,
     "metadata": {},
     "output_type": "execute_result"
    }
   ],
   "source": [
    "uniqueItems[:6] #Sample Result after removing nans"
   ]
  },
  {
   "cell_type": "code",
   "execution_count": 31,
   "metadata": {},
   "outputs": [],
   "source": [
    "#Calculating Score for each Item-pairs...\n",
    "score=[]\n",
    "for i in pairs:\n",
    "    cond=[]\n",
    "    for item in i:\n",
    "        cond.append('(\"%s\") in s' %item)\n",
    "    x = ('[s for s in groceries if ' + ' and '.join(cond) + ']')    \n",
    "    score.append(len(eval(x))/3000.0)"
   ]
  },
  {
   "cell_type": "code",
   "execution_count": 32,
   "metadata": {},
   "outputs": [],
   "source": [
    "Eclat_results = pd.DataFrame([pairs, score]).T\n",
    "Eclat_results.columns = ['Pairs', 'Score']"
   ]
  },
  {
   "cell_type": "code",
   "execution_count": 33,
   "metadata": {},
   "outputs": [
    {
     "data": {
      "text/html": [
       "<div>\n",
       "<style scoped>\n",
       "    .dataframe tbody tr th:only-of-type {\n",
       "        vertical-align: middle;\n",
       "    }\n",
       "\n",
       "    .dataframe tbody tr th {\n",
       "        vertical-align: top;\n",
       "    }\n",
       "\n",
       "    .dataframe thead th {\n",
       "        text-align: right;\n",
       "    }\n",
       "</style>\n",
       "<table border=\"1\" class=\"dataframe\">\n",
       "  <thead>\n",
       "    <tr style=\"text-align: right;\">\n",
       "      <th></th>\n",
       "      <th>Pairs</th>\n",
       "      <th>Score</th>\n",
       "    </tr>\n",
       "  </thead>\n",
       "  <tbody>\n",
       "    <tr>\n",
       "      <th>3805</th>\n",
       "      <td>[whole milk, other vegetables]</td>\n",
       "      <td>0.072</td>\n",
       "    </tr>\n",
       "    <tr>\n",
       "      <th>3826</th>\n",
       "      <td>[whole milk, rolls/buns]</td>\n",
       "      <td>0.058</td>\n",
       "    </tr>\n",
       "    <tr>\n",
       "      <th>3873</th>\n",
       "      <td>[whole milk, yogurt]</td>\n",
       "      <td>0.0563333</td>\n",
       "    </tr>\n",
       "    <tr>\n",
       "      <th>3836</th>\n",
       "      <td>[whole milk, root vegetables]</td>\n",
       "      <td>0.048</td>\n",
       "    </tr>\n",
       "    <tr>\n",
       "      <th>4649</th>\n",
       "      <td>[other vegetables, root vegetables]</td>\n",
       "      <td>0.0453333</td>\n",
       "    </tr>\n",
       "    <tr>\n",
       "      <th>4686</th>\n",
       "      <td>[other vegetables, yogurt]</td>\n",
       "      <td>0.045</td>\n",
       "    </tr>\n",
       "    <tr>\n",
       "      <th>5667</th>\n",
       "      <td>[soda, rolls/buns]</td>\n",
       "      <td>0.0423333</td>\n",
       "    </tr>\n",
       "    <tr>\n",
       "      <th>4639</th>\n",
       "      <td>[other vegetables, rolls/buns]</td>\n",
       "      <td>0.041</td>\n",
       "    </tr>\n",
       "    <tr>\n",
       "      <th>3237</th>\n",
       "      <td>[tropical fruit, whole milk]</td>\n",
       "      <td>0.0403333</td>\n",
       "    </tr>\n",
       "    <tr>\n",
       "      <th>2065</th>\n",
       "      <td>[citrus fruit, whole milk]</td>\n",
       "      <td>0.0346667</td>\n",
       "    </tr>\n",
       "  </tbody>\n",
       "</table>\n",
       "</div>"
      ],
      "text/plain": [
       "                                    Pairs      Score\n",
       "3805       [whole milk, other vegetables]      0.072\n",
       "3826             [whole milk, rolls/buns]      0.058\n",
       "3873                 [whole milk, yogurt]  0.0563333\n",
       "3836        [whole milk, root vegetables]      0.048\n",
       "4649  [other vegetables, root vegetables]  0.0453333\n",
       "4686           [other vegetables, yogurt]      0.045\n",
       "5667                   [soda, rolls/buns]  0.0423333\n",
       "4639       [other vegetables, rolls/buns]      0.041\n",
       "3237         [tropical fruit, whole milk]  0.0403333\n",
       "2065           [citrus fruit, whole milk]  0.0346667"
      ]
     },
     "execution_count": 33,
     "metadata": {},
     "output_type": "execute_result"
    }
   ],
   "source": [
    "Eclat_results.sort_values('Score',ascending=False).head(10)"
   ]
  },
  {
   "cell_type": "code",
   "execution_count": null,
   "metadata": {},
   "outputs": [],
   "source": []
  }
 ],
 "metadata": {
  "kernelspec": {
   "display_name": "Python 3",
   "language": "python",
   "name": "python3"
  },
  "language_info": {
   "codemirror_mode": {
    "name": "ipython",
    "version": 3
   },
   "file_extension": ".py",
   "mimetype": "text/x-python",
   "name": "python",
   "nbconvert_exporter": "python",
   "pygments_lexer": "ipython3",
   "version": "3.7.3"
  }
 },
 "nbformat": 4,
 "nbformat_minor": 4
}
